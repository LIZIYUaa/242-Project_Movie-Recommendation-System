{
 "cells": [
  {
   "cell_type": "code",
   "execution_count": 71,
   "metadata": {},
   "outputs": [
    {
     "data": {
      "text/html": [
       "<div>\n",
       "<style scoped>\n",
       "    .dataframe tbody tr th:only-of-type {\n",
       "        vertical-align: middle;\n",
       "    }\n",
       "\n",
       "    .dataframe tbody tr th {\n",
       "        vertical-align: top;\n",
       "    }\n",
       "\n",
       "    .dataframe thead th {\n",
       "        text-align: right;\n",
       "    }\n",
       "</style>\n",
       "<table border=\"1\" class=\"dataframe\">\n",
       "  <thead>\n",
       "    <tr style=\"text-align: right;\">\n",
       "      <th></th>\n",
       "      <th>Unnamed: 0</th>\n",
       "      <th>crew</th>\n",
       "      <th>movieId</th>\n",
       "    </tr>\n",
       "  </thead>\n",
       "  <tbody>\n",
       "    <tr>\n",
       "      <th>0</th>\n",
       "      <td>1</td>\n",
       "      <td>[{'credit_id': '52fe426ec3a36847f801e14b', 'de...</td>\n",
       "      <td>710</td>\n",
       "    </tr>\n",
       "    <tr>\n",
       "      <th>1</th>\n",
       "      <td>25</td>\n",
       "      <td>[{'credit_id': '52fe42f4c3a36847f802f69f', 'de...</td>\n",
       "      <td>1408</td>\n",
       "    </tr>\n",
       "    <tr>\n",
       "      <th>2</th>\n",
       "      <td>264</td>\n",
       "      <td>[{'credit_id': '52fe424dc3a36847f80139cd', 'de...</td>\n",
       "      <td>524</td>\n",
       "    </tr>\n",
       "    <tr>\n",
       "      <th>3</th>\n",
       "      <td>436</td>\n",
       "      <td>[{'credit_id': '52fe420dc3a36847f800011b', 'de...</td>\n",
       "      <td>5</td>\n",
       "    </tr>\n",
       "    <tr>\n",
       "      <th>4</th>\n",
       "      <td>648</td>\n",
       "      <td>[{'credit_id': '52fe428ac3a36847f8026c6f', 'de...</td>\n",
       "      <td>902</td>\n",
       "    </tr>\n",
       "  </tbody>\n",
       "</table>\n",
       "</div>"
      ],
      "text/plain": [
       "   Unnamed: 0                                               crew  movieId\n",
       "0           1  [{'credit_id': '52fe426ec3a36847f801e14b', 'de...      710\n",
       "1          25  [{'credit_id': '52fe42f4c3a36847f802f69f', 'de...     1408\n",
       "2         264  [{'credit_id': '52fe424dc3a36847f80139cd', 'de...      524\n",
       "3         436  [{'credit_id': '52fe420dc3a36847f800011b', 'de...        5\n",
       "4         648  [{'credit_id': '52fe428ac3a36847f8026c6f', 'de...      902"
      ]
     },
     "execution_count": 71,
     "metadata": {},
     "output_type": "execute_result"
    }
   ],
   "source": [
    "import numpy as np\n",
    "import pandas as pd\n",
    "\n",
    "# Read csv files\n",
    "crew = pd.read_csv('crew_merge.csv')\n",
    "crew.head()"
   ]
  },
  {
   "cell_type": "code",
   "execution_count": 72,
   "metadata": {},
   "outputs": [
    {
     "data": {
      "text/html": [
       "<div>\n",
       "<style scoped>\n",
       "    .dataframe tbody tr th:only-of-type {\n",
       "        vertical-align: middle;\n",
       "    }\n",
       "\n",
       "    .dataframe tbody tr th {\n",
       "        vertical-align: top;\n",
       "    }\n",
       "\n",
       "    .dataframe thead th {\n",
       "        text-align: right;\n",
       "    }\n",
       "</style>\n",
       "<table border=\"1\" class=\"dataframe\">\n",
       "  <thead>\n",
       "    <tr style=\"text-align: right;\">\n",
       "      <th></th>\n",
       "      <th>crew</th>\n",
       "      <th>movieId</th>\n",
       "    </tr>\n",
       "  </thead>\n",
       "  <tbody>\n",
       "    <tr>\n",
       "      <th>0</th>\n",
       "      <td>[{'credit_id': '52fe426ec3a36847f801e14b', 'de...</td>\n",
       "      <td>710</td>\n",
       "    </tr>\n",
       "    <tr>\n",
       "      <th>1</th>\n",
       "      <td>[{'credit_id': '52fe42f4c3a36847f802f69f', 'de...</td>\n",
       "      <td>1408</td>\n",
       "    </tr>\n",
       "    <tr>\n",
       "      <th>2</th>\n",
       "      <td>[{'credit_id': '52fe424dc3a36847f80139cd', 'de...</td>\n",
       "      <td>524</td>\n",
       "    </tr>\n",
       "    <tr>\n",
       "      <th>3</th>\n",
       "      <td>[{'credit_id': '52fe420dc3a36847f800011b', 'de...</td>\n",
       "      <td>5</td>\n",
       "    </tr>\n",
       "    <tr>\n",
       "      <th>4</th>\n",
       "      <td>[{'credit_id': '52fe428ac3a36847f8026c6f', 'de...</td>\n",
       "      <td>902</td>\n",
       "    </tr>\n",
       "  </tbody>\n",
       "</table>\n",
       "</div>"
      ],
      "text/plain": [
       "                                                crew  movieId\n",
       "0  [{'credit_id': '52fe426ec3a36847f801e14b', 'de...      710\n",
       "1  [{'credit_id': '52fe42f4c3a36847f802f69f', 'de...     1408\n",
       "2  [{'credit_id': '52fe424dc3a36847f80139cd', 'de...      524\n",
       "3  [{'credit_id': '52fe420dc3a36847f800011b', 'de...        5\n",
       "4  [{'credit_id': '52fe428ac3a36847f8026c6f', 'de...      902"
      ]
     },
     "execution_count": 72,
     "metadata": {},
     "output_type": "execute_result"
    }
   ],
   "source": [
    "# Remove unuseful column \n",
    "crew = crew.drop(['Unnamed: 0'], axis=1)\n",
    "crew.head()"
   ]
  },
  {
   "cell_type": "code",
   "execution_count": 73,
   "metadata": {},
   "outputs": [
    {
     "data": {
      "text/plain": [
       "str"
      ]
     },
     "execution_count": 73,
     "metadata": {},
     "output_type": "execute_result"
    }
   ],
   "source": [
    "# Check the type of 'crew'\n",
    "type(crew['crew'].iloc[1])"
   ]
  },
  {
   "cell_type": "code",
   "execution_count": 74,
   "metadata": {},
   "outputs": [
    {
     "data": {
      "text/html": [
       "<div>\n",
       "<style scoped>\n",
       "    .dataframe tbody tr th:only-of-type {\n",
       "        vertical-align: middle;\n",
       "    }\n",
       "\n",
       "    .dataframe tbody tr th {\n",
       "        vertical-align: top;\n",
       "    }\n",
       "\n",
       "    .dataframe thead th {\n",
       "        text-align: right;\n",
       "    }\n",
       "</style>\n",
       "<table border=\"1\" class=\"dataframe\">\n",
       "  <thead>\n",
       "    <tr style=\"text-align: right;\">\n",
       "      <th></th>\n",
       "      <th>crew</th>\n",
       "      <th>movieId</th>\n",
       "      <th>new_col</th>\n",
       "    </tr>\n",
       "  </thead>\n",
       "  <tbody>\n",
       "    <tr>\n",
       "      <th>0</th>\n",
       "      <td>[{'credit_id': '52fe426ec3a36847f801e14b', 'de...</td>\n",
       "      <td>710</td>\n",
       "      <td>[{'credit_id': '52fe426ec3a36847f801e14b', 'de...</td>\n",
       "    </tr>\n",
       "    <tr>\n",
       "      <th>1</th>\n",
       "      <td>[{'credit_id': '52fe42f4c3a36847f802f69f', 'de...</td>\n",
       "      <td>1408</td>\n",
       "      <td>[{'credit_id': '52fe42f4c3a36847f802f69f', 'de...</td>\n",
       "    </tr>\n",
       "    <tr>\n",
       "      <th>2</th>\n",
       "      <td>[{'credit_id': '52fe424dc3a36847f80139cd', 'de...</td>\n",
       "      <td>524</td>\n",
       "      <td>[{'credit_id': '52fe424dc3a36847f80139cd', 'de...</td>\n",
       "    </tr>\n",
       "    <tr>\n",
       "      <th>3</th>\n",
       "      <td>[{'credit_id': '52fe420dc3a36847f800011b', 'de...</td>\n",
       "      <td>5</td>\n",
       "      <td>[{'credit_id': '52fe420dc3a36847f800011b', 'de...</td>\n",
       "    </tr>\n",
       "    <tr>\n",
       "      <th>4</th>\n",
       "      <td>[{'credit_id': '52fe428ac3a36847f8026c6f', 'de...</td>\n",
       "      <td>902</td>\n",
       "      <td>[{'credit_id': '52fe428ac3a36847f8026c6f', 'de...</td>\n",
       "    </tr>\n",
       "  </tbody>\n",
       "</table>\n",
       "</div>"
      ],
      "text/plain": [
       "                                                crew  movieId  \\\n",
       "0  [{'credit_id': '52fe426ec3a36847f801e14b', 'de...      710   \n",
       "1  [{'credit_id': '52fe42f4c3a36847f802f69f', 'de...     1408   \n",
       "2  [{'credit_id': '52fe424dc3a36847f80139cd', 'de...      524   \n",
       "3  [{'credit_id': '52fe420dc3a36847f800011b', 'de...        5   \n",
       "4  [{'credit_id': '52fe428ac3a36847f8026c6f', 'de...      902   \n",
       "\n",
       "                                             new_col  \n",
       "0  [{'credit_id': '52fe426ec3a36847f801e14b', 'de...  \n",
       "1  [{'credit_id': '52fe42f4c3a36847f802f69f', 'de...  \n",
       "2  [{'credit_id': '52fe424dc3a36847f80139cd', 'de...  \n",
       "3  [{'credit_id': '52fe420dc3a36847f800011b', 'de...  \n",
       "4  [{'credit_id': '52fe428ac3a36847f8026c6f', 'de...  "
      ]
     },
     "execution_count": 74,
     "metadata": {},
     "output_type": "execute_result"
    }
   ],
   "source": [
    "# Convert 'crew' column to list \n",
    "new_col = []\n",
    "for i in range(len(crew)):\n",
    "    words = crew.loc[i,'crew']\n",
    "    words_split = words.split('{}')\n",
    "    for j in range(len(words_split)):\n",
    "        words_split[j] = words_split[j].strip(\" ''[]\")\n",
    "    new_col.append(words_split)\n",
    "    \n",
    "crew['new_col'] = new_col\n",
    "crew.head()"
   ]
  },
  {
   "cell_type": "code",
   "execution_count": 75,
   "metadata": {},
   "outputs": [
    {
     "name": "stdout",
     "output_type": "stream",
     "text": [
      "[\"{'credit_id': '52fe42f4c3a36847f802f69f', 'department': 'Camera', 'gender': 2, 'id': 2044, 'job': 'Director of Photography', 'name': 'Peter Levy', 'profile_path': None}, {'credit_id': '52fe42f4c3a36847f802f6b1', 'department': 'Art', 'gender': 1, 'id': 8383, 'job': 'Set Decoration', 'name': 'Maggie Gray', 'profile_path': None}, {'credit_id': '52fe42f4c3a36847f802f6ab', 'department': 'Art', 'gender': 2, 'id': 391, 'job': 'Production Design', 'name': 'Norman Garwood', 'profile_path': None}, {'credit_id': '52fe42f4c3a36847f802f6bd', 'department': 'Production', 'gender': 2, 'id': 3986, 'job': 'Executive Producer', 'name': 'Mario Kassar', 'profile_path': None}, {'credit_id': '52fe42f4c3a36847f802f699', 'department': 'Production', 'gender': 2, 'id': 7228, 'job': 'Producer', 'name': 'Joel B. Michaels', 'profile_path': None}, {'credit_id': '52fe42f4c3a36847f802f6a5', 'department': 'Production', 'gender': 1, 'id': 6044, 'job': 'Casting', 'name': 'Mindy Marin', 'profile_path': '/qzqo2SyYdwb3CKeLuUMXBJneWEe.jpg'}, {'credit_id': '52fe42f4c3a36847f802f693', 'department': 'Production', 'gender': 2, 'id': 10685, 'job': 'Producer', 'name': 'Laurence Mark', 'profile_path': '/fkqSdA5JyxMZwhb2qLzAHI2AUMO.jpg'}, {'credit_id': '52fe42f4c3a36847f802f6b7', 'department': 'Costume & Make-Up', 'gender': 0, 'id': 14590, 'job': 'Costume Design', 'name': 'Enrico Sabbatini', 'profile_path': None}, {'credit_id': '52fe42f4c3a36847f802f681', 'department': 'Directing', 'gender': 2, 'id': 16938, 'job': 'Director', 'name': 'Renny Harlin', 'profile_path': '/lOCRZzC1UZfkObWpQtKxga5ZV8F.jpg'}, {'credit_id': '52fe42f4c3a36847f802f68d', 'department': 'Production', 'gender': 2, 'id': 16938, 'job': 'Producer', 'name': 'Renny Harlin', 'profile_path': '/lOCRZzC1UZfkObWpQtKxga5ZV8F.jpg'}, {'credit_id': '52fe42f4c3a36847f802f687', 'department': 'Production', 'gender': 2, 'id': 22706, 'job': 'Producer', 'name': 'James Gorman', 'profile_path': None}, {'credit_id': '52fe42f4c3a36847f802f6c9', 'department': 'Writing', 'gender': 2, 'id': 22706, 'job': 'Story', 'name': 'James Gorman', 'profile_path': None}, {'credit_id': '52fe42f4c3a36847f802f6c3', 'department': 'Writing', 'gender': 2, 'id': 21203, 'job': 'Story', 'name': 'Michael Frost Beckner', 'profile_path': None}, {'credit_id': '52fe42f4c3a36847f802f6d5', 'department': 'Writing', 'gender': 2, 'id': 20061, 'job': 'Screenplay', 'name': 'Marc Norman', 'profile_path': None}, {'credit_id': '54591caa0e0a26115e002240', 'department': 'Writing', 'gender': 2, 'id': 1224549, 'job': 'Screenplay', 'name': 'Robert King', 'profile_path': '/fCeDPxdYWQDkbFKvDFQr8Csyi8T.jpg'}, {'credit_id': '5708349d9251415bc00005c4', 'department': 'Visual Effects', 'gender': 0, 'id': 1368867, 'job': 'Special Effects Supervisor', 'name': 'Allen Hall', 'profile_path': None}\"]\n"
     ]
    }
   ],
   "source": [
    "# Check the transformation result\n",
    "type(crew['new_col'].iloc[1])\n",
    "print(crew['new_col'].iloc[1])"
   ]
  },
  {
   "cell_type": "code",
   "execution_count": 76,
   "metadata": {},
   "outputs": [
    {
     "data": {
      "text/html": [
       "<div>\n",
       "<style scoped>\n",
       "    .dataframe tbody tr th:only-of-type {\n",
       "        vertical-align: middle;\n",
       "    }\n",
       "\n",
       "    .dataframe tbody tr th {\n",
       "        vertical-align: top;\n",
       "    }\n",
       "\n",
       "    .dataframe thead th {\n",
       "        text-align: right;\n",
       "    }\n",
       "</style>\n",
       "<table border=\"1\" class=\"dataframe\">\n",
       "  <thead>\n",
       "    <tr style=\"text-align: right;\">\n",
       "      <th></th>\n",
       "      <th>crew</th>\n",
       "      <th>movieId</th>\n",
       "      <th>new_col</th>\n",
       "      <th>crew_dict</th>\n",
       "    </tr>\n",
       "  </thead>\n",
       "  <tbody>\n",
       "    <tr>\n",
       "      <th>0</th>\n",
       "      <td>[{'credit_id': '52fe426ec3a36847f801e14b', 'de...</td>\n",
       "      <td>710</td>\n",
       "      <td>[{'credit_id': '52fe426ec3a36847f801e14b', 'de...</td>\n",
       "      <td>[\\n {\\n  \"credit_id\": \"52fe426ec3a36847f801e14...</td>\n",
       "    </tr>\n",
       "    <tr>\n",
       "      <th>1</th>\n",
       "      <td>[{'credit_id': '52fe42f4c3a36847f802f69f', 'de...</td>\n",
       "      <td>1408</td>\n",
       "      <td>[{'credit_id': '52fe42f4c3a36847f802f69f', 'de...</td>\n",
       "      <td>[\\n {\\n  \"credit_id\": \"52fe42f4c3a36847f802f69...</td>\n",
       "    </tr>\n",
       "    <tr>\n",
       "      <th>2</th>\n",
       "      <td>[{'credit_id': '52fe424dc3a36847f80139cd', 'de...</td>\n",
       "      <td>524</td>\n",
       "      <td>[{'credit_id': '52fe424dc3a36847f80139cd', 'de...</td>\n",
       "      <td>[\\n {\\n  \"credit_id\": \"52fe424dc3a36847f80139c...</td>\n",
       "    </tr>\n",
       "    <tr>\n",
       "      <th>3</th>\n",
       "      <td>[{'credit_id': '52fe420dc3a36847f800011b', 'de...</td>\n",
       "      <td>5</td>\n",
       "      <td>[{'credit_id': '52fe420dc3a36847f800011b', 'de...</td>\n",
       "      <td>[\\n {\\n  \"credit_id\": \"52fe420dc3a36847f800011...</td>\n",
       "    </tr>\n",
       "    <tr>\n",
       "      <th>4</th>\n",
       "      <td>[{'credit_id': '52fe428ac3a36847f8026c6f', 'de...</td>\n",
       "      <td>902</td>\n",
       "      <td>[{'credit_id': '52fe428ac3a36847f8026c6f', 'de...</td>\n",
       "      <td>[\\n {\\n  \"credit_id\": \"52fe428ac3a36847f8026c6...</td>\n",
       "    </tr>\n",
       "  </tbody>\n",
       "</table>\n",
       "</div>"
      ],
      "text/plain": [
       "                                                crew  movieId  \\\n",
       "0  [{'credit_id': '52fe426ec3a36847f801e14b', 'de...      710   \n",
       "1  [{'credit_id': '52fe42f4c3a36847f802f69f', 'de...     1408   \n",
       "2  [{'credit_id': '52fe424dc3a36847f80139cd', 'de...      524   \n",
       "3  [{'credit_id': '52fe420dc3a36847f800011b', 'de...        5   \n",
       "4  [{'credit_id': '52fe428ac3a36847f8026c6f', 'de...      902   \n",
       "\n",
       "                                             new_col  \\\n",
       "0  [{'credit_id': '52fe426ec3a36847f801e14b', 'de...   \n",
       "1  [{'credit_id': '52fe42f4c3a36847f802f69f', 'de...   \n",
       "2  [{'credit_id': '52fe424dc3a36847f80139cd', 'de...   \n",
       "3  [{'credit_id': '52fe420dc3a36847f800011b', 'de...   \n",
       "4  [{'credit_id': '52fe428ac3a36847f8026c6f', 'de...   \n",
       "\n",
       "                                           crew_dict  \n",
       "0  [\\n {\\n  \"credit_id\": \"52fe426ec3a36847f801e14...  \n",
       "1  [\\n {\\n  \"credit_id\": \"52fe42f4c3a36847f802f69...  \n",
       "2  [\\n {\\n  \"credit_id\": \"52fe424dc3a36847f80139c...  \n",
       "3  [\\n {\\n  \"credit_id\": \"52fe420dc3a36847f800011...  \n",
       "4  [\\n {\\n  \"credit_id\": \"52fe428ac3a36847f8026c6...  "
      ]
     },
     "execution_count": 76,
     "metadata": {},
     "output_type": "execute_result"
    }
   ],
   "source": [
    "# Convert string into dictionary since json.dumps works only on dictionary\n",
    "# Use json.dumps to convert all single quote into double quotes\n",
    "import ast\n",
    "import json\n",
    "dict = []\n",
    "for k in range(len(crew['new_col'])):\n",
    "    x = ast.literal_eval(crew['new_col'].iloc[k][0])\n",
    "    j = json.dumps(x,indent=1)\n",
    "    dict.append(j)\n",
    "crew['crew_dict'] = dict\n",
    "crew.head()"
   ]
  },
  {
   "cell_type": "code",
   "execution_count": 77,
   "metadata": {},
   "outputs": [],
   "source": [
    "crew.to_csv('crew_double_quote.csv')"
   ]
  },
  {
   "cell_type": "code",
   "execution_count": null,
   "metadata": {},
   "outputs": [],
   "source": []
  }
 ],
 "metadata": {
  "kernelspec": {
   "display_name": "Python 3",
   "language": "python",
   "name": "python3"
  },
  "language_info": {
   "codemirror_mode": {
    "name": "ipython",
    "version": 3
   },
   "file_extension": ".py",
   "mimetype": "text/x-python",
   "name": "python",
   "nbconvert_exporter": "python",
   "pygments_lexer": "ipython3",
   "version": "3.6.5"
  }
 },
 "nbformat": 4,
 "nbformat_minor": 2
}
