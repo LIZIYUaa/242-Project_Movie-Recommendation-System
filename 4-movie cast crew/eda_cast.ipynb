{
 "cells": [
  {
   "cell_type": "code",
   "execution_count": 3,
   "metadata": {},
   "outputs": [
    {
     "data": {
      "text/html": [
       "<div>\n",
       "<style scoped>\n",
       "    .dataframe tbody tr th:only-of-type {\n",
       "        vertical-align: middle;\n",
       "    }\n",
       "\n",
       "    .dataframe tbody tr th {\n",
       "        vertical-align: top;\n",
       "    }\n",
       "\n",
       "    .dataframe thead th {\n",
       "        text-align: right;\n",
       "    }\n",
       "</style>\n",
       "<table border=\"1\" class=\"dataframe\">\n",
       "  <thead>\n",
       "    <tr style=\"text-align: right;\">\n",
       "      <th></th>\n",
       "      <th>Unnamed: 0</th>\n",
       "      <th>cast</th>\n",
       "      <th>movieId</th>\n",
       "    </tr>\n",
       "  </thead>\n",
       "  <tbody>\n",
       "    <tr>\n",
       "      <th>0</th>\n",
       "      <td>1</td>\n",
       "      <td>[{'cast_id': 1, 'character': 'James Bond', 'cr...</td>\n",
       "      <td>710</td>\n",
       "    </tr>\n",
       "    <tr>\n",
       "      <th>1</th>\n",
       "      <td>25</td>\n",
       "      <td>[{'cast_id': 1, 'character': 'Morgan Adams', '...</td>\n",
       "      <td>1408</td>\n",
       "    </tr>\n",
       "    <tr>\n",
       "      <th>2</th>\n",
       "      <td>264</td>\n",
       "      <td>[{'cast_id': 4, 'character': \"Sam 'Ace' Rothst...</td>\n",
       "      <td>524</td>\n",
       "    </tr>\n",
       "    <tr>\n",
       "      <th>3</th>\n",
       "      <td>436</td>\n",
       "      <td>[{'cast_id': 42, 'character': 'Ted the Bellhop...</td>\n",
       "      <td>5</td>\n",
       "    </tr>\n",
       "    <tr>\n",
       "      <th>4</th>\n",
       "      <td>648</td>\n",
       "      <td>[{'cast_id': 24, 'character': 'One', 'credit_i...</td>\n",
       "      <td>902</td>\n",
       "    </tr>\n",
       "  </tbody>\n",
       "</table>\n",
       "</div>"
      ],
      "text/plain": [
       "   Unnamed: 0                                               cast  movieId\n",
       "0           1  [{'cast_id': 1, 'character': 'James Bond', 'cr...      710\n",
       "1          25  [{'cast_id': 1, 'character': 'Morgan Adams', '...     1408\n",
       "2         264  [{'cast_id': 4, 'character': \"Sam 'Ace' Rothst...      524\n",
       "3         436  [{'cast_id': 42, 'character': 'Ted the Bellhop...        5\n",
       "4         648  [{'cast_id': 24, 'character': 'One', 'credit_i...      902"
      ]
     },
     "execution_count": 3,
     "metadata": {},
     "output_type": "execute_result"
    }
   ],
   "source": [
    "import numpy as np\n",
    "import pandas as pd\n",
    "\n",
    "# Read csv files\n",
    "cast = pd.read_csv('cast_merge.csv')\n",
    "cast.head()"
   ]
  },
  {
   "cell_type": "code",
   "execution_count": 4,
   "metadata": {},
   "outputs": [
    {
     "data": {
      "text/html": [
       "<div>\n",
       "<style scoped>\n",
       "    .dataframe tbody tr th:only-of-type {\n",
       "        vertical-align: middle;\n",
       "    }\n",
       "\n",
       "    .dataframe tbody tr th {\n",
       "        vertical-align: top;\n",
       "    }\n",
       "\n",
       "    .dataframe thead th {\n",
       "        text-align: right;\n",
       "    }\n",
       "</style>\n",
       "<table border=\"1\" class=\"dataframe\">\n",
       "  <thead>\n",
       "    <tr style=\"text-align: right;\">\n",
       "      <th></th>\n",
       "      <th>cast</th>\n",
       "      <th>movieId</th>\n",
       "    </tr>\n",
       "  </thead>\n",
       "  <tbody>\n",
       "    <tr>\n",
       "      <th>0</th>\n",
       "      <td>[{'cast_id': 1, 'character': 'James Bond', 'cr...</td>\n",
       "      <td>710</td>\n",
       "    </tr>\n",
       "    <tr>\n",
       "      <th>1</th>\n",
       "      <td>[{'cast_id': 1, 'character': 'Morgan Adams', '...</td>\n",
       "      <td>1408</td>\n",
       "    </tr>\n",
       "    <tr>\n",
       "      <th>2</th>\n",
       "      <td>[{'cast_id': 4, 'character': \"Sam 'Ace' Rothst...</td>\n",
       "      <td>524</td>\n",
       "    </tr>\n",
       "    <tr>\n",
       "      <th>3</th>\n",
       "      <td>[{'cast_id': 42, 'character': 'Ted the Bellhop...</td>\n",
       "      <td>5</td>\n",
       "    </tr>\n",
       "    <tr>\n",
       "      <th>4</th>\n",
       "      <td>[{'cast_id': 24, 'character': 'One', 'credit_i...</td>\n",
       "      <td>902</td>\n",
       "    </tr>\n",
       "  </tbody>\n",
       "</table>\n",
       "</div>"
      ],
      "text/plain": [
       "                                                cast  movieId\n",
       "0  [{'cast_id': 1, 'character': 'James Bond', 'cr...      710\n",
       "1  [{'cast_id': 1, 'character': 'Morgan Adams', '...     1408\n",
       "2  [{'cast_id': 4, 'character': \"Sam 'Ace' Rothst...      524\n",
       "3  [{'cast_id': 42, 'character': 'Ted the Bellhop...        5\n",
       "4  [{'cast_id': 24, 'character': 'One', 'credit_i...      902"
      ]
     },
     "execution_count": 4,
     "metadata": {},
     "output_type": "execute_result"
    }
   ],
   "source": [
    "# Remove unuseful column \n",
    "cast = cast.drop(['Unnamed: 0'], axis=1)\n",
    "cast.head()"
   ]
  },
  {
   "cell_type": "code",
   "execution_count": 5,
   "metadata": {},
   "outputs": [
    {
     "data": {
      "text/plain": [
       "str"
      ]
     },
     "execution_count": 5,
     "metadata": {},
     "output_type": "execute_result"
    }
   ],
   "source": [
    "# Check the type of 'cast'\n",
    "type(cast['cast'].iloc[1])"
   ]
  },
  {
   "cell_type": "code",
   "execution_count": 6,
   "metadata": {},
   "outputs": [
    {
     "data": {
      "text/html": [
       "<div>\n",
       "<style scoped>\n",
       "    .dataframe tbody tr th:only-of-type {\n",
       "        vertical-align: middle;\n",
       "    }\n",
       "\n",
       "    .dataframe tbody tr th {\n",
       "        vertical-align: top;\n",
       "    }\n",
       "\n",
       "    .dataframe thead th {\n",
       "        text-align: right;\n",
       "    }\n",
       "</style>\n",
       "<table border=\"1\" class=\"dataframe\">\n",
       "  <thead>\n",
       "    <tr style=\"text-align: right;\">\n",
       "      <th></th>\n",
       "      <th>cast</th>\n",
       "      <th>movieId</th>\n",
       "      <th>new_col</th>\n",
       "    </tr>\n",
       "  </thead>\n",
       "  <tbody>\n",
       "    <tr>\n",
       "      <th>0</th>\n",
       "      <td>[{'cast_id': 1, 'character': 'James Bond', 'cr...</td>\n",
       "      <td>710</td>\n",
       "      <td>[{'cast_id': 1, 'character': 'James Bond', 'cr...</td>\n",
       "    </tr>\n",
       "    <tr>\n",
       "      <th>1</th>\n",
       "      <td>[{'cast_id': 1, 'character': 'Morgan Adams', '...</td>\n",
       "      <td>1408</td>\n",
       "      <td>[{'cast_id': 1, 'character': 'Morgan Adams', '...</td>\n",
       "    </tr>\n",
       "    <tr>\n",
       "      <th>2</th>\n",
       "      <td>[{'cast_id': 4, 'character': \"Sam 'Ace' Rothst...</td>\n",
       "      <td>524</td>\n",
       "      <td>[{'cast_id': 4, 'character': \"Sam 'Ace' Rothst...</td>\n",
       "    </tr>\n",
       "    <tr>\n",
       "      <th>3</th>\n",
       "      <td>[{'cast_id': 42, 'character': 'Ted the Bellhop...</td>\n",
       "      <td>5</td>\n",
       "      <td>[{'cast_id': 42, 'character': 'Ted the Bellhop...</td>\n",
       "    </tr>\n",
       "    <tr>\n",
       "      <th>4</th>\n",
       "      <td>[{'cast_id': 24, 'character': 'One', 'credit_i...</td>\n",
       "      <td>902</td>\n",
       "      <td>[{'cast_id': 24, 'character': 'One', 'credit_i...</td>\n",
       "    </tr>\n",
       "  </tbody>\n",
       "</table>\n",
       "</div>"
      ],
      "text/plain": [
       "                                                cast  movieId  \\\n",
       "0  [{'cast_id': 1, 'character': 'James Bond', 'cr...      710   \n",
       "1  [{'cast_id': 1, 'character': 'Morgan Adams', '...     1408   \n",
       "2  [{'cast_id': 4, 'character': \"Sam 'Ace' Rothst...      524   \n",
       "3  [{'cast_id': 42, 'character': 'Ted the Bellhop...        5   \n",
       "4  [{'cast_id': 24, 'character': 'One', 'credit_i...      902   \n",
       "\n",
       "                                             new_col  \n",
       "0  [{'cast_id': 1, 'character': 'James Bond', 'cr...  \n",
       "1  [{'cast_id': 1, 'character': 'Morgan Adams', '...  \n",
       "2  [{'cast_id': 4, 'character': \"Sam 'Ace' Rothst...  \n",
       "3  [{'cast_id': 42, 'character': 'Ted the Bellhop...  \n",
       "4  [{'cast_id': 24, 'character': 'One', 'credit_i...  "
      ]
     },
     "execution_count": 6,
     "metadata": {},
     "output_type": "execute_result"
    }
   ],
   "source": [
    "# Convert 'cast' column to list \n",
    "new_col = []\n",
    "for i in range(len(cast)):\n",
    "    words = cast.loc[i,'cast']\n",
    "    words_split = words.split('{}')\n",
    "    for j in range(len(words_split)):\n",
    "        words_split[j] = words_split[j].strip(\" ''[]\")\n",
    "    new_col.append(words_split)\n",
    "    \n",
    "cast['new_col'] = new_col\n",
    "cast.head()"
   ]
  },
  {
   "cell_type": "code",
   "execution_count": 7,
   "metadata": {},
   "outputs": [
    {
     "name": "stdout",
     "output_type": "stream",
     "text": [
      "['{\\'cast_id\\': 1, \\'character\\': \\'Morgan Adams\\', \\'credit_id\\': \\'52fe42f4c3a36847f802f65f\\', \\'gender\\': 1, \\'id\\': 16935, \\'name\\': \\'Geena Davis\\', \\'order\\': 0, \\'profile_path\\': \\'/6b8cRJOItz7yNpYuLCPkl5kv4m2.jpg\\'}, {\\'cast_id\\': 2, \\'character\\': \\'William Shaw\\', \\'credit_id\\': \\'52fe42f4c3a36847f802f663\\', \\'gender\\': 2, \\'id\\': 8654, \\'name\\': \\'Matthew Modine\\', \\'order\\': 1, \\'profile_path\\': \\'/tEQG1Us5IuoKYtufZe6waWtxfeg.jpg\\'}, {\\'cast_id\\': 3, \\'character\\': \\'Dawg\\', \\'credit_id\\': \\'52fe42f4c3a36847f802f667\\', \\'gender\\': 2, \\'id\\': 8924, \\'name\\': \\'Frank Langella\\', \\'order\\': 2, \\'profile_path\\': \\'/wMlcjLBQouQjE0iceseNTxUF3BF.jpg\\'}, {\\'cast_id\\': 4, \\'character\\': \\'John Reed\\', \\'credit_id\\': \\'52fe42f4c3a36847f802f66b\\', \\'gender\\': 2, \\'id\\': 7868, \\'name\\': \\'Maury Chaykin\\', \\'order\\': 3, \\'profile_path\\': \\'/jhJgkb5P0oAW7QtULjqD2kaN0ez.jpg\\'}, {\\'cast_id\\': 5, \\'character\\': \\'Ainstee\\', \\'credit_id\\': \\'52fe42f4c3a36847f802f66f\\', \\'gender\\': 2, \\'id\\': 8979, \\'name\\': \\'Patrick Malahide\\', \\'order\\': 4, \\'profile_path\\': \\'/pv65v8oEhLo0ibCz1K23UCoKMuS.jpg\\'}, {\\'cast_id\\': 6, \\'character\\': \\'Glasspoole\\', \\'credit_id\\': \\'52fe42f4c3a36847f802f673\\', \\'gender\\': 2, \\'id\\': 16936, \\'name\\': \\'Stan Shaw\\', \\'order\\': 5, \\'profile_path\\': \\'/2KUPUQQFmc8Zyzf16uaiYmVrNvX.jpg\\'}, {\\'cast_id\\': 7, \\'character\\': \\'Mr. Blair\\', \\'credit_id\\': \\'52fe42f4c3a36847f802f677\\', \\'gender\\': 2, \\'id\\': 16937, \\'name\\': \\'Rex Linn\\', \\'order\\': 6, \\'profile_path\\': \\'/2ze2PNirf4vle9sWRkSxHgv1iH0.jpg\\'}, {\\'cast_id\\': 8, \\'character\\': \\'Snelgrave\\', \\'credit_id\\': \\'52fe42f4c3a36847f802f67b\\', \\'gender\\': 2, \\'id\\': 13925, \\'name\\': \\'Paul Dillon\\', \\'order\\': 7, \\'profile_path\\': \\'/6jouXtMcbJ7nTuDNwvaePnqCHTX.jpg\\'}, {\\'cast_id\\': 26, \\'character\\': \\'Bowen\\', \\'credit_id\\': \\'5969508c92514136c3003278\\', \\'gender\\': 2, \\'id\\': 35769, \\'name\\': \\'Christopher Masterson\\', \\'order\\': 8, \\'profile_path\\': \\'/gz0GFQmLLjo6Q9Gvf1rKdZd2XhM.jpg\\'}, {\\'cast_id\\': 27, \\'character\\': \\'Scully\\', \\'credit_id\\': \\'596950a992514136ac003306\\', \\'gender\\': 0, \\'id\\': 133771, \\'name\\': \\'Jimmie F. Skaggs\\', \\'order\\': 9, \\'profile_path\\': None}, {\\'cast_id\\': 28, \\'character\\': \\'Black Harry\\', \\'credit_id\\': \\'596950c292514136a0003471\\', \\'gender\\': 2, \\'id\\': 1166, \\'name\\': \\'Harris Yulin\\', \\'order\\': 10, \\'profile_path\\': \\'/MCW4IR3mEB6oeRbX9bfeHkZ3qm.jpg\\'}, {\\'cast_id\\': 29, \\'character\\': \\'Bishop\\', \\'credit_id\\': \\'596950e292514136a40033c2\\', \\'gender\\': 2, \\'id\\': 127166, \\'name\\': \\'Carl Chase\\', \\'order\\': 11, \\'profile_path\\': \\'/3HLdJB6ZQNi3DK4Ix9FXZ0a67K8.jpg\\'}, {\\'cast_id\\': 30, \\'character\\': \\'Fiddler Pirate\\', \\'credit_id\\': \\'596950ffc3a3683b7d0036de\\', \\'gender\\': 0, \\'id\\': 1220350, \\'name\\': \\'Peter Geeves\\', \\'order\\': 12, \\'profile_path\\': None}, {\\'cast_id\\': 31, \\'character\\': \\'Captain Trotter\\', \\'credit_id\\': \\'59695116c3a3683b6e0033e7\\', \\'gender\\': 0, \\'id\\': 1252814, \\'name\\': \\'Angus Wright\\', \\'order\\': 13, \\'profile_path\\': \\'/jcVb6Z421Z3zshe9R7dCOn2NpO9.jpg\\'}, {\\'cast_id\\': 32, \\'character\\': \\'Toussant\\', \\'credit_id\\': \\'5969512f92514136ac003394\\', \\'gender\\': 2, \\'id\\': 91662, \\'name\\': \\'Ken Bones\\', \\'order\\': 14, \\'profile_path\\': \\'/fA5B1EMFzgRzUr8K07iwYi3JwV8.jpg\\'}, {\\'cast_id\\': 33, \\'character\\': \\'Lady\\', \\'credit_id\\': \\'5969515892514136c300332f\\', \\'gender\\': 1, \\'id\\': 31294, \\'name\\': \\'Mary Peach\\', \\'order\\': 15, \\'profile_path\\': \\'/lrgPf78F1KneQzji4slgXqzhJ1t.jpg\\'}, {\\'cast_id\\': 34, \\'character\\': \\'Lieutenant\\', \\'credit_id\\': \\'5969518292514136a80034ff\\', \\'gender\\': 2, \\'id\\': 17202, \\'name\\': \\'Thomas Lockyer\\', \\'order\\': 16, \\'profile_path\\': None}, {\\'cast_id\\': 35, \\'character\\': \\'Auctioneer\\', \\'credit_id\\': \\'5969519c92514136a4003464\\', \\'gender\\': 0, \\'id\\': 1649736, \\'name\\': \\'Roger Booth\\', \\'order\\': 17, \\'profile_path\\': None}, {\\'cast_id\\': 36, \\'character\\': \\'Mordachai Fingers\\', \\'credit_id\\': \\'596951b392514136ac00340a\\', \\'gender\\': 2, \\'id\\': 90625, \\'name\\': \\'George Murcell\\', \\'order\\': 18, \\'profile_path\\': None}, {\\'cast_id\\': 37, \\'character\\': \\'Bartender\\', \\'credit_id\\': \\'596951cf92514136f800360a\\', \\'gender\\': 0, \\'id\\': 1117347, \\'name\\': \\'Simon Atherton\\', \\'order\\': 19, \\'profile_path\\': \\'/di5Gr8kLKeLuI1gyzqBDIc5xyod.jpg\\'}, {\\'cast_id\\': 38, \\'character\\': \\'Executioner\\', \\'credit_id\\': \\'596951e2c3a3683b8c00382f\\', \\'gender\\': 2, \\'id\\': 1495190, \\'name\\': \\'Dickey Beer\\', \\'order\\': 20, \\'profile_path\\': None}, {\\'cast_id\\': 39, \\'character\\': \\'Hastings\\', \\'credit_id\\': \\'596951ff92514136ac003450\\', \\'gender\\': 0, \\'id\\': 1466675, \\'name\\': \\'Christopher Halliday\\', \\'order\\': 21, \\'profile_path\\': None}, {\\'cast_id\\': 40, \\'character\\': \\'Helmsman\\', \\'credit_id\\': \\'5969521992514136d90033a2\\', \\'gender\\': 0, \\'id\\': 1420324, \\'name\\': \\'Chris Johnston\\', \\'order\\': 22, \\'profile_path\\': None}, {\\'cast_id\\': 41, \\'character\\': \\'Snake the Lookout\\', \\'credit_id\\': \\'5969523692514136ac003480\\', \\'gender\\': 2, \\'id\\': 16792, \\'name\\': \\'Richard Leaf\\', \\'order\\': 23, \\'profile_path\\': \\'/8TLhzJ9VOjZPm9myvZaWMsuOW0j.jpg\\'}, {\\'cast_id\\': 42, \\'character\\': \\'Fleming\\', \\'credit_id\\': \\'5969525392514136d90033da\\', \\'gender\\': 0, \\'id\\': 2480, \\'name\\': \\'Tam White\\', \\'order\\': 24, \\'profile_path\\': \\'/jk1UaBYHiiEm6BXLhlHtG50NDLc.jpg\\'}, {\\'cast_id\\': 43, \\'character\\': \\'Captain Perkins\\', \\'credit_id\\': \\'5969527dc3a3683b7d00383e\\', \\'gender\\': 2, \\'id\\': 2479, \\'name\\': \\'Rupert Vansittart\\', \\'order\\': 25, \\'profile_path\\': \\'/Adw0Z2bT8qU5H6S0swuUWrBKDDs.jpg\\'}, {\\'cast_id\\': 44, \\'character\\': \"Dawg\\'s Pirate\", \\'credit_id\\': \\'59695295c3a3683b920030d0\\', \\'gender\\': 2, \\'id\\': 19704, \\'name\\': \\'Nick Bartlett\\', \\'order\\': 26, \\'profile_path\\': \\'/gup3bUaA5IokhbF1511vS6T2AoR.jpg\\'}, {\\'cast_id\\': 45, \\'character\\': \"Dawg\\'s Pirate\", \\'credit_id\\': \\'596952a6c3a3683b61003503\\', \\'gender\\': 2, \\'id\\': 1715, \\'name\\': \\'David Bailie\\', \\'order\\': 27, \\'profile_path\\': \\'/iUKR4K7ftO6xj6ExewkIBlL9tYw.jpg\\'}, {\\'cast_id\\': 46, \\'character\\': \"Dawg\\'s Pirate\", \\'credit_id\\': \\'596952bdc3a3683b420033e0\\', \\'gender\\': 0, \\'id\\': 1221761, \\'name\\': \\'Kwame Kwei-Armah\\', \\'order\\': 28, \\'profile_path\\': None}, {\\'cast_id\\': 47, \\'character\\': \"Dawg\\'s Pirate\", \\'credit_id\\': \\'596952d3c3a3683af200398c\\', \\'gender\\': 2, \\'id\\': 178622, \\'name\\': \\'Ramon Tikaram\\', \\'order\\': 29, \\'profile_path\\': \\'/lsR2X7T6FJcNIkY651zQ46D0nAw.jpg\\'}, {\\'cast_id\\': 48, \\'character\\': \"Dawg\\'s Pirate\", \\'credit_id\\': \\'596952eac3a3683b42003414\\', \\'gender\\': 2, \\'id\\': 64102, \\'name\\': \\'Christopher Adamson\\', \\'order\\': 30, \\'profile_path\\': \\'/8yLz3515hR5RgjeH0kbGcjSYylO.jpg\\'}']\n"
     ]
    }
   ],
   "source": [
    "# Check the transformation result\n",
    "type(cast['new_col'].iloc[1])\n",
    "print(cast['new_col'].iloc[1])"
   ]
  },
  {
   "cell_type": "code",
   "execution_count": 9,
   "metadata": {},
   "outputs": [
    {
     "data": {
      "text/html": [
       "<div>\n",
       "<style scoped>\n",
       "    .dataframe tbody tr th:only-of-type {\n",
       "        vertical-align: middle;\n",
       "    }\n",
       "\n",
       "    .dataframe tbody tr th {\n",
       "        vertical-align: top;\n",
       "    }\n",
       "\n",
       "    .dataframe thead th {\n",
       "        text-align: right;\n",
       "    }\n",
       "</style>\n",
       "<table border=\"1\" class=\"dataframe\">\n",
       "  <thead>\n",
       "    <tr style=\"text-align: right;\">\n",
       "      <th></th>\n",
       "      <th>cast</th>\n",
       "      <th>movieId</th>\n",
       "      <th>new_col</th>\n",
       "      <th>cast_dict</th>\n",
       "    </tr>\n",
       "  </thead>\n",
       "  <tbody>\n",
       "    <tr>\n",
       "      <th>0</th>\n",
       "      <td>[{'cast_id': 1, 'character': 'James Bond', 'cr...</td>\n",
       "      <td>710</td>\n",
       "      <td>[{'cast_id': 1, 'character': 'James Bond', 'cr...</td>\n",
       "      <td>[\\n {\\n  \"cast_id\": 1,\\n  \"character\": \"James ...</td>\n",
       "    </tr>\n",
       "    <tr>\n",
       "      <th>1</th>\n",
       "      <td>[{'cast_id': 1, 'character': 'Morgan Adams', '...</td>\n",
       "      <td>1408</td>\n",
       "      <td>[{'cast_id': 1, 'character': 'Morgan Adams', '...</td>\n",
       "      <td>[\\n {\\n  \"cast_id\": 1,\\n  \"character\": \"Morgan...</td>\n",
       "    </tr>\n",
       "    <tr>\n",
       "      <th>2</th>\n",
       "      <td>[{'cast_id': 4, 'character': \"Sam 'Ace' Rothst...</td>\n",
       "      <td>524</td>\n",
       "      <td>[{'cast_id': 4, 'character': \"Sam 'Ace' Rothst...</td>\n",
       "      <td>[\\n {\\n  \"cast_id\": 4,\\n  \"character\": \"Sam 'A...</td>\n",
       "    </tr>\n",
       "    <tr>\n",
       "      <th>3</th>\n",
       "      <td>[{'cast_id': 42, 'character': 'Ted the Bellhop...</td>\n",
       "      <td>5</td>\n",
       "      <td>[{'cast_id': 42, 'character': 'Ted the Bellhop...</td>\n",
       "      <td>[\\n {\\n  \"cast_id\": 42,\\n  \"character\": \"Ted t...</td>\n",
       "    </tr>\n",
       "    <tr>\n",
       "      <th>4</th>\n",
       "      <td>[{'cast_id': 24, 'character': 'One', 'credit_i...</td>\n",
       "      <td>902</td>\n",
       "      <td>[{'cast_id': 24, 'character': 'One', 'credit_i...</td>\n",
       "      <td>[\\n {\\n  \"cast_id\": 24,\\n  \"character\": \"One\",...</td>\n",
       "    </tr>\n",
       "  </tbody>\n",
       "</table>\n",
       "</div>"
      ],
      "text/plain": [
       "                                                cast  movieId  \\\n",
       "0  [{'cast_id': 1, 'character': 'James Bond', 'cr...      710   \n",
       "1  [{'cast_id': 1, 'character': 'Morgan Adams', '...     1408   \n",
       "2  [{'cast_id': 4, 'character': \"Sam 'Ace' Rothst...      524   \n",
       "3  [{'cast_id': 42, 'character': 'Ted the Bellhop...        5   \n",
       "4  [{'cast_id': 24, 'character': 'One', 'credit_i...      902   \n",
       "\n",
       "                                             new_col  \\\n",
       "0  [{'cast_id': 1, 'character': 'James Bond', 'cr...   \n",
       "1  [{'cast_id': 1, 'character': 'Morgan Adams', '...   \n",
       "2  [{'cast_id': 4, 'character': \"Sam 'Ace' Rothst...   \n",
       "3  [{'cast_id': 42, 'character': 'Ted the Bellhop...   \n",
       "4  [{'cast_id': 24, 'character': 'One', 'credit_i...   \n",
       "\n",
       "                                           cast_dict  \n",
       "0  [\\n {\\n  \"cast_id\": 1,\\n  \"character\": \"James ...  \n",
       "1  [\\n {\\n  \"cast_id\": 1,\\n  \"character\": \"Morgan...  \n",
       "2  [\\n {\\n  \"cast_id\": 4,\\n  \"character\": \"Sam 'A...  \n",
       "3  [\\n {\\n  \"cast_id\": 42,\\n  \"character\": \"Ted t...  \n",
       "4  [\\n {\\n  \"cast_id\": 24,\\n  \"character\": \"One\",...  "
      ]
     },
     "execution_count": 9,
     "metadata": {},
     "output_type": "execute_result"
    }
   ],
   "source": [
    "# Convert string into dictionary since json.dumps works only on dictionary\n",
    "# Use json.dumps to convert all single quote into double quotes\n",
    "import ast\n",
    "import json\n",
    "dict = []\n",
    "for k in range(len(cast['new_col'])):\n",
    "    x = ast.literal_eval(cast['new_col'].iloc[k][0])\n",
    "    j = json.dumps(x,indent=1)\n",
    "    dict.append(j)\n",
    "cast['cast_dict'] = dict\n",
    "cast.head()"
   ]
  },
  {
   "cell_type": "code",
   "execution_count": 10,
   "metadata": {},
   "outputs": [],
   "source": [
    "cast.to_csv('cast_double_quote.csv')"
   ]
  },
  {
   "cell_type": "code",
   "execution_count": null,
   "metadata": {},
   "outputs": [],
   "source": []
  }
 ],
 "metadata": {
  "kernelspec": {
   "display_name": "Python 3",
   "language": "python",
   "name": "python3"
  },
  "language_info": {
   "codemirror_mode": {
    "name": "ipython",
    "version": 3
   },
   "file_extension": ".py",
   "mimetype": "text/x-python",
   "name": "python",
   "nbconvert_exporter": "python",
   "pygments_lexer": "ipython3",
   "version": "3.6.5"
  }
 },
 "nbformat": 4,
 "nbformat_minor": 2
}
